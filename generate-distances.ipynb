{
 "cells": [
  {
   "cell_type": "code",
   "execution_count": null,
   "metadata": {},
   "outputs": [],
   "source": [
    "import pandas as pd\n",
    "from geopy.geocoders import Nominatim\n",
    "from geopy.distance import geodesic\n",
    "import os\n",
    "import openpyxl"
   ]
  },
  {
   "cell_type": "code",
   "execution_count": null,
   "metadata": {},
   "outputs": [],
   "source": [
    "# List of cities\n",
    "cities = [\"Ciudad de México, Ciudad de México, México \", \"Hermosillo, Sonora, México\", \"Guadalajara, Jalisco, México\", \"León, Guanajuato, México\"\n",
    "          , \"Monterrey, Nuevo León, México\", \"Mérida, Yucatán, México\", \"Puebla, Puebla, México\", \"Querétaro, Querétaro, México\", \"Toluca, Estado de México, México\"\n",
    "          , \"Tijuana, Baja California, México\", \"Cancún, Quintana Roo, México\", \"Acapulco, Guerrero, México\", \"Aguascalientes, Aguascalientes, México\"]"
   ]
  },
  {
   "cell_type": "code",
   "execution_count": null,
   "metadata": {},
   "outputs": [],
   "source": [
    "# Create a dataframe with the cities as indices and columns\n",
    "distances_df = pd.DataFrame(0, index=cities, columns=cities)"
   ]
  },
  {
   "cell_type": "code",
   "execution_count": null,
   "metadata": {},
   "outputs": [],
   "source": [
    "# Create a geolocator object\n",
    "geolocator = Nominatim(user_agent=\"myGeocoder\")"
   ]
  },
  {
   "cell_type": "code",
   "execution_count": null,
   "metadata": {},
   "outputs": [],
   "source": [
    "# Calculate and store the distances\n",
    "for ciudad1 in cities:\n",
    "    for ciudad2 in cities:\n",
    "        # Get the coordinates of the first city\n",
    "        location1 = geolocator.geocode(ciudad1)\n",
    "        lat1, lon1 = location1.latitude, location1.longitude\n",
    "\n",
    "        # Get the coordinates of the second city\n",
    "        location2 = geolocator.geocode(ciudad2)\n",
    "        lat2, lon2 = location2.latitude, location2.longitude\n",
    "\n",
    "        # Calculate the distance between the two coordinates\n",
    "        distance = geodesic((lat1, lon1), (lat2, lon2)).kilometers\n",
    "\n",
    "        # Create dataframe with the distances as simmetric matrix\n",
    "        distances_df.loc[ciudad1, ciudad2] = distance\n",
    "        distances_df.loc[ciudad2, ciudad1] = distance"
   ]
  },
  {
   "cell_type": "code",
   "execution_count": null,
   "metadata": {},
   "outputs": [],
   "source": [
    "# Change the names of the columns and the index to only the name of the city\n",
    "distances_df.columns = [name.split(\",\")[0] for name in distances_df.columns]\n",
    "distances_df.index = [name.split(\",\")[0] for name in distances_df.index]\n",
    "\n",
    "# Round the values of the DataFrame to 2 decimals\n",
    "distances_df = distances_df.round(2)"
   ]
  },
  {
   "cell_type": "code",
   "execution_count": null,
   "metadata": {},
   "outputs": [],
   "source": [
    "# Take a look to the dataframe\n",
    "distances_df"
   ]
  },
  {
   "cell_type": "code",
   "execution_count": null,
   "metadata": {},
   "outputs": [],
   "source": [
    "path = os.path.join('data', 'distances.xlsx')\n",
    "distances_df.to_excel(path)"
   ]
  }
 ],
 "metadata": {
  "kernelspec": {
   "display_name": "conexion-postgresql",
   "language": "python",
   "name": "python3"
  },
  "language_info": {
   "codemirror_mode": {
    "name": "ipython",
    "version": 3
   },
   "file_extension": ".py",
   "mimetype": "text/x-python",
   "name": "python",
   "nbconvert_exporter": "python",
   "pygments_lexer": "ipython3",
   "version": "3.10.11"
  },
  "orig_nbformat": 4
 },
 "nbformat": 4,
 "nbformat_minor": 2
}
