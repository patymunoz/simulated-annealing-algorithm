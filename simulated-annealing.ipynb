{
 "cells": [
  {
   "cell_type": "code",
   "execution_count": null,
   "metadata": {},
   "outputs": [],
   "source": [
    "# Import libraries\n",
    "\n",
    "import pandas as pd\n",
    "import numpy as np\n",
    "import matplotlib.pyplot as plt\n",
    "import os"
   ]
  },
  {
   "cell_type": "code",
   "execution_count": null,
   "metadata": {},
   "outputs": [],
   "source": [
    "# Path and data\n",
    "path = os.path.join('data', 'distances.xlsx')\n",
    "data = pd.read_excel(path)"
   ]
  },
  {
   "cell_type": "code",
   "execution_count": null,
   "metadata": {},
   "outputs": [],
   "source": [
    "# Pimp matrix\n",
    "data.rename(columns={\"Unnamed: 0\": \"Cities\"}, inplace=True)\n",
    "data = data.set_index(\"Cities\")"
   ]
  },
  {
   "cell_type": "code",
   "execution_count": null,
   "metadata": {},
   "outputs": [],
   "source": [
    "# Auxiliar functions\n",
    "\n",
    "def array_values_route(array):\n",
    "    \"\"\"\n",
    "    Function that returns the values of the route\n",
    "\n",
    "    ### Parameters:\n",
    "    array (list): list of cities\n",
    "\n",
    "    ### Returns:\n",
    "    array_values (list): list of values of the route\n",
    "    \"\"\"\n",
    "    array_values = []\n",
    "    for i in range(len(array) - 1):\n",
    "        first_selector = array[i]\n",
    "        second_selector = array[i + 1]\n",
    "        array_values.append(data[first_selector][second_selector])\n",
    "    array_values.append(data[array[0]][array[-1]]) \n",
    "    \n",
    "    return array_values\n",
    "\n",
    "\n",
    "def exchange_positions(array):\n",
    "        \"\"\"\n",
    "        Function that exchanges the positions of two cities\n",
    "\n",
    "        ### Parameters:\n",
    "        array (list): list of cities\n",
    "\n",
    "        ### Returns:\n",
    "        new_route (list): list of cities with the positions exchanged\n",
    "        \"\"\"\n",
    "        position1 = np.random.randint(0,len(array))\n",
    "        position2 = np.random.randint(0,len(array))\n",
    "        new_route = array.copy()\n",
    "        new_route[position1], new_route[position2] = new_route[position2], new_route[position1]\n",
    "        return new_route"
   ]
  },
  {
   "cell_type": "code",
   "execution_count": null,
   "metadata": {},
   "outputs": [],
   "source": [
    "#############################################################################################\n",
    "\n",
    "#########################   Algoritmo Simulated Annealing    ################################\n",
    "\n",
    "#############################################################################################\n",
    "\n",
    "dist, config = [],[]\n",
    "\n",
    "x = 30 #Parameter that can be modified\n",
    "\n",
    "for _ in range(x):\n",
    "\n",
    "    actual_config_labels = np.random.permutation(data.columns)\n",
    "    actual_energy = sum(array_values_route(actual_config_labels))\n",
    "\n",
    "    t = 0\n",
    "    T = 1000 #Parameter that can be modified\n",
    "    n = 100 #Parameter that can be modified\n",
    "    vector = []\n",
    "\n",
    "    while T > 5:\n",
    "        for i in range(n):\n",
    "            prime_config_labels = exchange_positions(actual_config_labels)\n",
    "            prime_config_values = array_values_route(prime_config_labels)\n",
    "            prime_config_energy = sum(prime_config_values)\n",
    "\n",
    "            delta_e = prime_config_energy - actual_energy\n",
    "            x = -(delta_e)/T\n",
    "            q = np.exp(x)\n",
    "            p = np.random.uniform(0,1)\n",
    "            if p < q:\n",
    "                actual_config_labels = prime_config_labels.copy()\n",
    "                actual_energy = prime_config_energy\n",
    "                vector.append(actual_energy)\n",
    "\n",
    "        t +=1\n",
    "        T = 1000/(1+(t)) #Cooling function that can be modified\n",
    "    \n",
    "    dist.append(actual_energy)\n",
    "    config.append(actual_config_labels)\n",
    "\n",
    "print(\"Optimal route: \", actual_config_labels, \"final energy: \", actual_energy)"
   ]
  },
  {
   "cell_type": "code",
   "execution_count": null,
   "metadata": {},
   "outputs": [],
   "source": [
    "# Plot energy array\n",
    "\n",
    "y = np.array(vector)\n",
    "plt.plot(y)"
   ]
  }
 ],
 "metadata": {
  "kernelspec": {
   "display_name": "simulated-a",
   "language": "python",
   "name": "python3"
  },
  "language_info": {
   "codemirror_mode": {
    "name": "ipython",
    "version": 3
   },
   "file_extension": ".py",
   "mimetype": "text/x-python",
   "name": "python",
   "nbconvert_exporter": "python",
   "pygments_lexer": "ipython3",
   "version": "3.10.11"
  },
  "orig_nbformat": 4
 },
 "nbformat": 4,
 "nbformat_minor": 2
}
